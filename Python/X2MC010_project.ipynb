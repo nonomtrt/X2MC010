{
 "cells": [
  {
   "cell_type": "markdown",
   "id": "43d5a0e7",
   "metadata": {},
   "source": [
    "# X2MC010: Supervised Study Project in Mathematics\n",
    "\n",
    "> ## Cryptography"
   ]
  },
  {
   "cell_type": "markdown",
   "id": "8c3ff259",
   "metadata": {},
   "source": [
    "### Encryption\n",
    "In python, we decided to encrypt our text in different methods. "
   ]
  },
  {
   "cell_type": "code",
   "execution_count": 79,
   "id": "2842cbd1",
   "metadata": {},
   "outputs": [],
   "source": [
    "import numpy as np\n",
    "from cryptography.hazmat.primitives.ciphers import Cipher, algorithms, modes\n",
    "from Crypto.Cipher import ChaCha20_Poly1305, Salsa20, AES, DES, DES3, ARC2, ARC4, Blowfish, CAST\n",
    "from Crypto.Random import get_random_bytes\n",
    "from base64 import b64encode, b64decode\n",
    "from Crypto.Util.Padding import pad, unpad\n",
    "import base64"
   ]
  },
  {
   "cell_type": "markdown",
   "id": "3c02c37f",
   "metadata": {},
   "source": [
    "Our reference for the alphabet is between 65 and 90 (with ASCII table)."
   ]
  },
  {
   "cell_type": "markdown",
   "id": "676da0bf",
   "metadata": {},
   "source": [
    "We have to import our text to encryption it."
   ]
  },
  {
   "cell_type": "code",
   "execution_count": 80,
   "id": "d6460571",
   "metadata": {},
   "outputs": [],
   "source": [
    "f = open('textecrypto2.txt','r')\n",
    "text_clear=f.read()\n",
    "plaintext = text_clear.strip(\"\\ufeff\")"
   ]
  },
  {
   "cell_type": "code",
   "execution_count": null,
   "id": "5152e096",
   "metadata": {},
   "outputs": [],
   "source": [
    "plaintext"
   ]
  },
  {
   "cell_type": "code",
   "execution_count": 81,
   "id": "43aaf799",
   "metadata": {},
   "outputs": [],
   "source": [
    "text = plaintext.encode(encoding=\"utf-8\")"
   ]
  },
  {
   "cell_type": "code",
   "execution_count": 82,
   "id": "20ae9941",
   "metadata": {},
   "outputs": [],
   "source": [
    "def caesar(clear,key):\n",
    "  if (65>ord(key) or 90<ord(key)):\n",
    "    return('Error, '+key+' not in the alphabet we want')\n",
    "  key=ord(key)-65\n",
    "  cipher=''\n",
    "  for i in range(len(clear)):\n",
    "    letter=clear[i]\n",
    "    if (ord(letter)<65 or ord(letter)>90):\n",
    "      return('Error, '+letter+' not in the alphabet we want')\n",
    "    if (ord(letter)+key>90):\n",
    "      cipher+=(chr(ord(letter)+key-26))\n",
    "    else:\n",
    "      cipher+=(chr(ord(letter)+key))\n",
    "  return cipher"
   ]
  },
  {
   "cell_type": "code",
   "execution_count": 83,
   "id": "7da4f012",
   "metadata": {},
   "outputs": [],
   "source": [
    "def vigenere(clear,key):\n",
    "  cipher=''\n",
    "  k=0\n",
    "  for i in range(len(clear)):\n",
    "    cipher+=caesar(clear[i],key[k])\n",
    "    k+=1\n",
    "    k=k%len(key)\n",
    "  return cipher"
   ]
  },
  {
   "cell_type": "markdown",
   "id": "e6d25379",
   "metadata": {},
   "source": [
    "Now, we have to encrypt with different method. Begin with Caesar and Vigenère. To use them, we have to choose a key. In these methods, a key is a letter. So, we choose a letter between 'A' and 'Z'."
   ]
  },
  {
   "cell_type": "code",
   "execution_count": 84,
   "id": "f543d74c",
   "metadata": {},
   "outputs": [],
   "source": [
    "ciphertxt_caesar = caesar(plaintext, 'M')\n",
    "ciphertxt_vigenere= vigenere(plaintext, 'CHLOEETNOEMIE')\n",
    "\n",
    "#To save ciphertext, we use:\n",
    "with open(\"ciphertxt_caesar.txt\", 'w') as f:\n",
    "    f.write(ciphertxt_caesar)\n",
    "f.close()\n",
    "with open(\"ciphertxt_viegenere.txt\", 'w') as f:\n",
    "    f.write(ciphertxt_vigenere)\n",
    "f.close()"
   ]
  },
  {
   "cell_type": "markdown",
   "id": "f425cae2",
   "metadata": {},
   "source": [
    "Now, we use others methods.   \n",
    "Begin with Chacha20:"
   ]
  },
  {
   "cell_type": "code",
   "execution_count": 85,
   "id": "084a103e",
   "metadata": {},
   "outputs": [],
   "source": [
    "key = open('key_32.txt','r')\n",
    "key1=key.read()\n",
    "key2 = key1.strip(\"\\ufeff\")\n",
    "key_32_bytes = base64.b64decode(key2)\n",
    "\n",
    "key = open('key_16.txt','r')\n",
    "key1=key.read()\n",
    "key2 = key1.strip(\"\\ufeff\")\n",
    "key_16_bytes = base64.b64decode(key2)\n",
    "\n",
    "key = open('key_8.txt','r')\n",
    "key1=key.read()\n",
    "key2 = key1.strip(\"\\ufeff\")\n",
    "key_8_bytes = base64.b64decode(key2)\n"
   ]
  },
  {
   "cell_type": "markdown",
   "id": "725206c4",
   "metadata": {},
   "source": [
    "#def of the key in 32, 16 and 8 bytes to encrypt\n",
    "key_32_bytes= get_random_bytes(32) \n",
    "key_16_bytes = get_random_bytes(16)\n",
    "key_8_bytes = get_random_bytes(8)\n",
    "\n",
    "#We want to save them to keep this key just in case\n",
    "with open(\"Key_32.txt\", 'w') as f:\n",
    "    f.write(b64encode(key_32_bytes).decode('utf-8'))\n",
    "f.close()\n",
    "with open(\"Key_16.txt\", 'w') as f:\n",
    "    f.write(b64encode(key_16_bytes).decode('utf-8'))\n",
    "f.close()\n",
    "with open(\"Key_8.txt\", 'w') as f:\n",
    "    f.write(b64encode(key_8_bytes).decode('utf-8'))\n",
    "f.close()"
   ]
  },
  {
   "cell_type": "code",
   "execution_count": 86,
   "id": "d702666f",
   "metadata": {},
   "outputs": [],
   "source": [
    "CC20 = ChaCha20_Poly1305.new(key=key_32_bytes)\n",
    "ciphertxt_CC20, tag = CC20.encrypt_and_digest(text)"
   ]
  },
  {
   "cell_type": "code",
   "execution_count": 87,
   "id": "7f8081e2",
   "metadata": {
    "scrolled": true
   },
   "outputs": [],
   "source": [
    "ct = b64encode(ciphertxt_CC20).decode('utf-8')\n",
    "\n",
    "with open(\"ciphertxt_chacha20.txt\", 'w') as f:\n",
    "    f.write(ct)\n",
    "f.close()"
   ]
  },
  {
   "cell_type": "markdown",
   "id": "6fab154e",
   "metadata": {},
   "source": [
    "Salsa20: "
   ]
  },
  {
   "cell_type": "code",
   "execution_count": 88,
   "id": "95acc5a8",
   "metadata": {},
   "outputs": [],
   "source": [
    "Sls20 = Salsa20.new(key=key_32_bytes)\n",
    "S20 = Sls20.encrypt(text)\n",
    "ciphertxt_Salsa20 = b64encode(S20).decode('utf-8')\n",
    "\n",
    "#To save it \n",
    "with open(\"ciphertxt_salsa20.txt\", 'w') as f:\n",
    "    f.write(ciphertxt_Salsa20)\n",
    "f.close()"
   ]
  },
  {
   "cell_type": "markdown",
   "id": "9c3cc110",
   "metadata": {},
   "source": [
    "With AES, we can do lots of modes:"
   ]
  },
  {
   "cell_type": "code",
   "execution_count": 89,
   "id": "81f6b80b",
   "metadata": {},
   "outputs": [],
   "source": [
    "aes_eax = AES.new(key_16_bytes, AES.MODE_EAX)\n",
    "aes, tag = aes_eax.encrypt_and_digest(text)\n",
    "ciphertxt_aes_eax = b64encode(aes).decode('utf-8')\n",
    "ciphertxt_aes_eax\n",
    "\n",
    "#To save it \n",
    "with open(\"ciphertxt_aes_eax.txt\", 'w') as f:\n",
    "    f.write(ciphertxt_aes_eax)\n",
    "f.close()"
   ]
  },
  {
   "cell_type": "code",
   "execution_count": 90,
   "id": "c198569c",
   "metadata": {},
   "outputs": [],
   "source": [
    "aes_ecb = AES.new(key_16_bytes, AES.MODE_ECB)\n",
    "aesecb = aes_ecb.encrypt(pad(text, 16))\n",
    "ciphertxt_aes_ecb = b64encode(aesecb).decode('utf-8')\n",
    "ciphertxt_aes_ecb\n",
    "\n",
    "#To save it \n",
    "with open(\"ciphertxt_aes_ecb.txt\", 'w') as f:\n",
    "    f.write(ciphertxt_aes_ecb)\n",
    "f.close()"
   ]
  },
  {
   "cell_type": "code",
   "execution_count": 91,
   "id": "941bf9c5",
   "metadata": {},
   "outputs": [],
   "source": [
    "aes_cbc = AES.new(key_16_bytes, AES.MODE_CBC)\n",
    "aescbc = aes_cbc.encrypt(pad(text, 16))\n",
    "ciphertxt_aes_cbc = b64encode(aescbc).decode('utf-8')\n",
    "ciphertxt_aes_cbc\n",
    "\n",
    "#To save it \n",
    "with open(\"ciphertxt_aes_cbc.txt\", 'w') as f:\n",
    "    f.write(ciphertxt_aes_cbc)\n",
    "f.close()"
   ]
  },
  {
   "cell_type": "code",
   "execution_count": 92,
   "id": "2d596d9d",
   "metadata": {},
   "outputs": [],
   "source": [
    "aes_cfb = AES.new(key_16_bytes, AES.MODE_CFB)\n",
    "aescfb = aes_cfb.encrypt(pad(text, 16))\n",
    "ciphertxt_aes_cfb = b64encode(aescfb).decode('utf-8')\n",
    "ciphertxt_aes_cfb\n",
    "\n",
    "#To save it \n",
    "with open(\"ciphertxt_aes_cfb.txt\", 'w') as f:\n",
    "    f.write(ciphertxt_aes_cfb)\n",
    "f.close()"
   ]
  },
  {
   "cell_type": "code",
   "execution_count": 93,
   "id": "6cd193e2",
   "metadata": {},
   "outputs": [],
   "source": [
    "aes_ofb = AES.new(key_16_bytes, AES.MODE_OFB)\n",
    "aesofb = aes_ofb.encrypt(pad(text, 16))\n",
    "ciphertxt_aes_ofb = b64encode(aesofb).decode('utf-8')\n",
    "ciphertxt_aes_ofb\n",
    "\n",
    "#To save it \n",
    "with open(\"ciphertxt_aes_ofb.txt\", 'w') as f:\n",
    "    f.write(ciphertxt_aes_ofb)\n",
    "f.close()"
   ]
  },
  {
   "cell_type": "code",
   "execution_count": 94,
   "id": "7a3de44b",
   "metadata": {},
   "outputs": [],
   "source": [
    "aes_ctr = AES.new(key_16_bytes, AES.MODE_CTR)\n",
    "aesctr = aes_ctr.encrypt(pad(text, 16))\n",
    "ciphertxt_aes_ctr = b64encode(aesctr).decode('utf-8')\n",
    "ciphertxt_aes_ctr\n",
    "\n",
    "#To save it \n",
    "with open(\"ciphertxt_aes_ctr.txt\", 'w') as f:\n",
    "    f.write(ciphertxt_aes_ctr)\n",
    "f.close()"
   ]
  },
  {
   "cell_type": "code",
   "execution_count": 95,
   "id": "9d000d26",
   "metadata": {},
   "outputs": [],
   "source": [
    "aes_openpgp = AES.new(key_16_bytes, AES.MODE_OPENPGP)\n",
    "aesopenpgp = aes_openpgp.encrypt(pad(text, 16))\n",
    "ciphertxt_aes_openpgp = b64encode(aesopenpgp).decode('utf-8')\n",
    "ciphertxt_aes_openpgp\n",
    "\n",
    "#To save it \n",
    "with open(\"ciphertxt_aes_openpgp.txt\", 'w') as f:\n",
    "    f.write(ciphertxt_aes_openpgp)\n",
    "f.close()"
   ]
  },
  {
   "cell_type": "code",
   "execution_count": 96,
   "id": "174cd511",
   "metadata": {},
   "outputs": [],
   "source": [
    "aes_ccm = AES.new(key_16_bytes, AES.MODE_CCM)\n",
    "aesccm = aes_ccm.encrypt(pad(text, 16))\n",
    "ciphertxt_aes_ccm = b64encode(aesccm).decode('utf-8')\n",
    "ciphertxt_aes_ccm\n",
    "\n",
    "#To save it \n",
    "with open(\"ciphertxt_aes_ccm.txt\", 'w') as f:\n",
    "    f.write(ciphertxt_aes_ccm)\n",
    "f.close()"
   ]
  },
  {
   "cell_type": "code",
   "execution_count": 97,
   "id": "094f6dc2",
   "metadata": {},
   "outputs": [],
   "source": [
    "aes_siv = AES.new(key_32_bytes, AES.MODE_SIV)\n",
    "aessiv, tag = aes_siv.encrypt_and_digest(text)\n",
    "ciphertxt_aes_siv = b64encode(aessiv).decode('utf-8')\n",
    "ciphertxt_aes_siv\n",
    "\n",
    "#To save it \n",
    "with open(\"ciphertxt_aes_siv.txt\", 'w') as f:\n",
    "    f.write(ciphertxt_aes_siv)\n",
    "f.close()"
   ]
  },
  {
   "cell_type": "code",
   "execution_count": 98,
   "id": "33a571e2",
   "metadata": {},
   "outputs": [],
   "source": [
    "aes_gcm = AES.new(key_16_bytes, AES.MODE_GCM)\n",
    "aesgcm = aes_gcm.encrypt(pad(text, 16))\n",
    "ciphertxt_aes_gcm = b64encode(aesgcm).decode('utf-8')\n",
    "ciphertxt_aes_gcm\n",
    "\n",
    "#To save it \n",
    "with open(\"ciphertxt_aes_gcm.txt\", 'w') as f:\n",
    "    f.write(ciphertxt_aes_gcm)\n",
    "f.close()"
   ]
  },
  {
   "cell_type": "code",
   "execution_count": 99,
   "id": "ff7b1fd1",
   "metadata": {},
   "outputs": [],
   "source": [
    "aes_ocb = AES.new(key_16_bytes, AES.MODE_OCB)\n",
    "aesocb = aes_ocb.encrypt(pad(text, 16))\n",
    "ciphertxt_aes_ocb = b64encode(aesocb).decode('utf-8')\n",
    "ciphertxt_aes_ocb\n",
    "\n",
    "#To save it \n",
    "with open(\"ciphertxt_aes_ocb.txt\", 'w') as f:\n",
    "    f.write(ciphertxt_aes_ocb)\n",
    "f.close()"
   ]
  },
  {
   "cell_type": "markdown",
   "id": "660b3405",
   "metadata": {},
   "source": [
    "DES (with differents modes):"
   ]
  },
  {
   "cell_type": "code",
   "execution_count": 100,
   "id": "ffdf24a8",
   "metadata": {},
   "outputs": [],
   "source": [
    "des_eax = DES.new(key_8_bytes, DES.MODE_EAX)\n",
    "deseax = des_eax.encrypt(pad(text,8))\n",
    "ciphertxt_des_eax = b64encode(deseax).decode('utf-8')\n",
    "ciphertxt_des_eax\n",
    "\n",
    "#To save it \n",
    "with open(\"ciphertxt_des_eax.txt\", 'w') as f:\n",
    "    f.write(ciphertxt_des_eax)\n",
    "f.close()"
   ]
  },
  {
   "cell_type": "code",
   "execution_count": 101,
   "id": "971aae18",
   "metadata": {},
   "outputs": [],
   "source": [
    "des_ecb = DES.new(key_8_bytes, DES.MODE_ECB)\n",
    "desecb = des_ecb.encrypt(pad(text,8))\n",
    "ciphertxt_des_ecb = b64encode(desecb).decode('utf-8')\n",
    "ciphertxt_des_ecb\n",
    "\n",
    "#To save it \n",
    "with open(\"ciphertxt_des_ecb.txt\", 'w') as f:\n",
    "    f.write(ciphertxt_des_ecb)\n",
    "f.close()"
   ]
  },
  {
   "cell_type": "code",
   "execution_count": 102,
   "id": "9c38eb80",
   "metadata": {},
   "outputs": [],
   "source": [
    "des_cbc = DES.new(key_8_bytes, DES.MODE_CBC)\n",
    "descbc = des_cbc.encrypt(pad(text,8))\n",
    "ciphertxt_des_cbc = b64encode(descbc).decode('utf-8')\n",
    "ciphertxt_des_cbc\n",
    "\n",
    "#To save it \n",
    "with open(\"ciphertxt_des_cbc.txt\", 'w') as f:\n",
    "    f.write(ciphertxt_des_cbc)\n",
    "f.close()"
   ]
  },
  {
   "cell_type": "code",
   "execution_count": 103,
   "id": "5d224a71",
   "metadata": {},
   "outputs": [],
   "source": [
    "des_cfb = DES.new(key_8_bytes, DES.MODE_CFB)\n",
    "descfb = des_cfb.encrypt(pad(text,8))\n",
    "ciphertxt_des_cfb = b64encode(descfb).decode('utf-8')\n",
    "ciphertxt_des_cfb\n",
    "\n",
    "#To save it \n",
    "with open(\"ciphertxt_des_cfb.txt\", 'w') as f:\n",
    "    f.write(ciphertxt_des_cfb)\n",
    "f.close()"
   ]
  },
  {
   "cell_type": "code",
   "execution_count": 104,
   "id": "413d053e",
   "metadata": {},
   "outputs": [],
   "source": [
    "des_ofb = DES.new(key_8_bytes, DES.MODE_OFB)\n",
    "desofb = des_ofb.encrypt(pad(text,8))\n",
    "ciphertxt_des_ofb = b64encode(desofb).decode('utf-8')\n",
    "ciphertxt_des_ofb\n",
    "\n",
    "#To save it \n",
    "with open(\"ciphertxt_des_ofb.txt\", 'w') as f:\n",
    "    f.write(ciphertxt_des_ofb)\n",
    "f.close()"
   ]
  },
  {
   "cell_type": "code",
   "execution_count": 105,
   "id": "0a056b47",
   "metadata": {},
   "outputs": [],
   "source": [
    "des_openpgp = DES.new(key_8_bytes, DES.MODE_OPENPGP)\n",
    "desopenpgp = des_openpgp.encrypt(text)\n",
    "ciphertxt_des_openpgp = b64encode(desopenpgp).decode('utf-8')\n",
    "ciphertxt_des_openpgp\n",
    "\n",
    "#To save it \n",
    "with open(\"ciphertxt_des_openpgp.txt\", 'w') as f:\n",
    "    f.write(ciphertxt_des_openpgp)\n",
    "f.close()"
   ]
  },
  {
   "cell_type": "markdown",
   "id": "493aec8a",
   "metadata": {},
   "source": [
    "TRIPLE-DES (with differents modes again):"
   ]
  },
  {
   "cell_type": "code",
   "execution_count": 106,
   "id": "ee3017d9",
   "metadata": {},
   "outputs": [],
   "source": [
    "des3_eax = DES3.new(key_16_bytes, DES.MODE_EAX)\n",
    "des3eax = des3_eax.encrypt(pad(text,16))\n",
    "ciphertxt_des3_eax = b64encode(des3eax).decode('utf-8')\n",
    "ciphertxt_des3_eax\n",
    "\n",
    "#To save it \n",
    "with open(\"ciphertxt_des3_eax.txt\", 'w') as f:\n",
    "    f.write(ciphertxt_des3_eax)\n",
    "f.close()"
   ]
  },
  {
   "cell_type": "code",
   "execution_count": 107,
   "id": "3426bceb",
   "metadata": {},
   "outputs": [],
   "source": [
    "des3_ecb = DES3.new(key_16_bytes, DES.MODE_ECB)\n",
    "des3ecb = des3_ecb.encrypt(pad(text,16))\n",
    "ciphertxt_des3_ecb = b64encode(des3ecb).decode('utf-8')\n",
    "ciphertxt_des3_ecb\n",
    "\n",
    "#To save it \n",
    "with open(\"ciphertxt_des3_ecb.txt\", 'w') as f:\n",
    "    f.write(ciphertxt_des3_ecb)\n",
    "f.close()"
   ]
  },
  {
   "cell_type": "code",
   "execution_count": 108,
   "id": "9b5741e7",
   "metadata": {},
   "outputs": [],
   "source": [
    "des3_cbc = DES3.new(key_16_bytes, DES.MODE_CBC)\n",
    "des3cbc = des3_cbc.encrypt(pad(text,16))\n",
    "ciphertxt_des3_cbc = b64encode(des3cbc).decode('utf-8')\n",
    "ciphertxt_des3_cbc\n",
    "\n",
    "#To save it \n",
    "with open(\"ciphertxt_des3_cbc.txt\", 'w') as f:\n",
    "    f.write(ciphertxt_des3_cbc)\n",
    "f.close()"
   ]
  },
  {
   "cell_type": "code",
   "execution_count": 109,
   "id": "90f159f2",
   "metadata": {},
   "outputs": [],
   "source": [
    "des3_cfb = DES3.new(key_16_bytes, DES.MODE_CFB)\n",
    "des3cfb = des3_cfb.encrypt(pad(text,16))\n",
    "ciphertxt_des3_cfb = b64encode(des3cfb).decode('utf-8')\n",
    "ciphertxt_des3_cfb\n",
    "\n",
    "#To save it \n",
    "with open(\"ciphertxt_des3_cfb.txt\", 'w') as f:\n",
    "    f.write(ciphertxt_des3_cfb)\n",
    "f.close()"
   ]
  },
  {
   "cell_type": "code",
   "execution_count": 110,
   "id": "34372cb4",
   "metadata": {},
   "outputs": [],
   "source": [
    "des3_ofb = DES3.new(key_16_bytes, DES.MODE_OFB)\n",
    "des3ofb = des3_ofb.encrypt(pad(text,16))\n",
    "ciphertxt_des3_ofb = b64encode(des3ofb).decode('utf-8')\n",
    "ciphertxt_des3_ofb\n",
    "\n",
    "#To save it \n",
    "with open(\"ciphertxt_des3_ofb.txt\", 'w') as f:\n",
    "    f.write(ciphertxt_des3_ofb)\n",
    "f.close()"
   ]
  },
  {
   "cell_type": "code",
   "execution_count": 111,
   "id": "3027510d",
   "metadata": {},
   "outputs": [],
   "source": [
    "des3_openpgp = DES3.new(key_16_bytes, DES.MODE_OPENPGP)\n",
    "des3openpgp = des3_openpgp.encrypt(pad(text,16))\n",
    "ciphertxt_des3_openpgp = b64encode(des3openpgp).decode('utf-8')\n",
    "ciphertxt_des3_openpgp\n",
    "\n",
    "#To save it \n",
    "with open(\"ciphertxt_des3_openpgp.txt\", 'w') as f:\n",
    "    f.write(ciphertxt_des3_openpgp)\n",
    "f.close()"
   ]
  },
  {
   "cell_type": "markdown",
   "id": "32f4b606",
   "metadata": {},
   "source": [
    "RC2 with differents modes: "
   ]
  },
  {
   "cell_type": "code",
   "execution_count": 112,
   "id": "a3e0ec42",
   "metadata": {},
   "outputs": [],
   "source": [
    "rc2_eax = ARC2.new(key_16_bytes, DES.MODE_EAX)\n",
    "rc2eax = rc2_eax.encrypt(pad(text,16))\n",
    "ciphertxt_rc2_eax = b64encode(rc2eax).decode('utf-8')\n",
    "ciphertxt_rc2_eax\n",
    "\n",
    "#To save it \n",
    "with open(\"ciphertxt_rc2_eax.txt\", 'w') as f:\n",
    "    f.write(ciphertxt_rc2_eax)\n",
    "f.close()"
   ]
  },
  {
   "cell_type": "code",
   "execution_count": 113,
   "id": "3e87377a",
   "metadata": {},
   "outputs": [],
   "source": [
    "rc2_ecb = ARC2.new(key_16_bytes, DES.MODE_ECB)\n",
    "rc2ecb = rc2_ecb.encrypt(pad(text,16))\n",
    "ciphertxt_rc2_ecb = b64encode(rc2ecb).decode('utf-8')\n",
    "ciphertxt_rc2_ecb\n",
    "\n",
    "#To save it \n",
    "with open(\"ciphertxt_rc2_ecb.txt\", 'w') as f:\n",
    "    f.write(ciphertxt_rc2_ecb)\n",
    "f.close()"
   ]
  },
  {
   "cell_type": "code",
   "execution_count": 114,
   "id": "7ef0019d",
   "metadata": {},
   "outputs": [],
   "source": [
    "rc2_cbc = ARC2.new(key_16_bytes, DES.MODE_CBC)\n",
    "rc2cbc = rc2_cbc.encrypt(pad(text,16))\n",
    "ciphertxt_rc2_cbc = b64encode(rc2cbc).decode('utf-8')\n",
    "ciphertxt_rc2_cbc\n",
    "\n",
    "#To save it \n",
    "with open(\"ciphertxt_rc2_cbc.txt\", 'w') as f:\n",
    "    f.write(ciphertxt_rc2_cbc)\n",
    "f.close()"
   ]
  },
  {
   "cell_type": "code",
   "execution_count": 115,
   "id": "8822fee5",
   "metadata": {},
   "outputs": [],
   "source": [
    "rc2_cfb = ARC2.new(key_16_bytes, DES.MODE_CFB)\n",
    "rc2cfb = rc2_cfb.encrypt(pad(text,16))\n",
    "ciphertxt_rc2_cfb = b64encode(rc2cfb).decode('utf-8')\n",
    "ciphertxt_rc2_cfb\n",
    "\n",
    "#To save it \n",
    "with open(\"ciphertxt_rc2_cfb.txt\", 'w') as f:\n",
    "    f.write(ciphertxt_rc2_cfb)\n",
    "f.close()"
   ]
  },
  {
   "cell_type": "code",
   "execution_count": 116,
   "id": "29334b7b",
   "metadata": {},
   "outputs": [],
   "source": [
    "rc2_ofb = ARC2.new(key_16_bytes, DES.MODE_OFB)\n",
    "rc2ofb = rc2_ofb.encrypt(pad(text,16))\n",
    "ciphertxt_rc2_ofb = b64encode(rc2ofb).decode('utf-8')\n",
    "ciphertxt_rc2_ofb\n",
    "\n",
    "#To save it \n",
    "with open(\"ciphertxt_rc2_ofb.txt\", 'w') as f:\n",
    "    f.write(ciphertxt_rc2_ofb)\n",
    "f.close()"
   ]
  },
  {
   "cell_type": "code",
   "execution_count": 117,
   "id": "da7b0f13",
   "metadata": {},
   "outputs": [],
   "source": [
    "rc2_openpgp = ARC2.new(key_16_bytes, DES.MODE_OPENPGP)\n",
    "rc2openpgp = rc2_openpgp.encrypt(pad(text,16))\n",
    "ciphertxt_rc2_openpgp = b64encode(rc2openpgp).decode('utf-8')\n",
    "ciphertxt_rc2_openpgp\n",
    "\n",
    "#To save it \n",
    "with open(\"ciphertxt_rc2_openpgp.txt\", 'w') as f:\n",
    "    f.write(ciphertxt_rc2_openpgp)\n",
    "f.close()"
   ]
  },
  {
   "cell_type": "markdown",
   "id": "1962e8aa",
   "metadata": {},
   "source": [
    "ARC4:"
   ]
  },
  {
   "cell_type": "code",
   "execution_count": 118,
   "id": "906a0c83",
   "metadata": {},
   "outputs": [],
   "source": [
    "arc4 = ARC4.new(key_16_bytes)\n",
    "ARC4 = arc4.encrypt(pad(text,16))\n",
    "ciphertxt_arc4 = b64encode(ARC4).decode('utf-8')\n",
    "ciphertxt_arc4\n",
    "\n",
    "#To save it \n",
    "with open(\"ciphertxt_arc4.txt\", 'w') as f:\n",
    "    f.write(ciphertxt_arc4)\n",
    "f.close()"
   ]
  },
  {
   "cell_type": "markdown",
   "id": "93a7145e",
   "metadata": {},
   "source": [
    "Blowfish (with differents modes):"
   ]
  },
  {
   "cell_type": "code",
   "execution_count": 119,
   "id": "7687d3ff",
   "metadata": {},
   "outputs": [],
   "source": [
    "blowfish_eax = Blowfish.new(key_16_bytes, DES.MODE_EAX)\n",
    "blowfisheax = blowfish_eax.encrypt(pad(text,16))\n",
    "ciphertxt_blowfish_eax = b64encode(blowfisheax).decode('utf-8')\n",
    "ciphertxt_blowfish_eax\n",
    "\n",
    "#To save it \n",
    "with open(\"ciphertxt_blowfish_eax.txt\", 'w') as f:\n",
    "    f.write(ciphertxt_blowfish_eax)\n",
    "f.close()"
   ]
  },
  {
   "cell_type": "code",
   "execution_count": 120,
   "id": "484e66df",
   "metadata": {},
   "outputs": [],
   "source": [
    "blowfish_ecb = Blowfish.new(key_16_bytes, DES.MODE_ECB)\n",
    "blowfishecb = blowfish_ecb.encrypt(pad(text,16))\n",
    "ciphertxt_blowfish_ecb = b64encode(blowfishecb).decode('utf-8')\n",
    "ciphertxt_blowfish_ecb\n",
    "\n",
    "#To save it \n",
    "with open(\"ciphertxt_blowfish_ecb.txt\", 'w') as f:\n",
    "    f.write(ciphertxt_blowfish_ecb)\n",
    "f.close()"
   ]
  },
  {
   "cell_type": "code",
   "execution_count": 121,
   "id": "d7541579",
   "metadata": {},
   "outputs": [],
   "source": [
    "blowfish_cbc = Blowfish.new(key_16_bytes, DES.MODE_CBC)\n",
    "blowfishcbc = blowfish_cbc.encrypt(pad(text,16))\n",
    "ciphertxt_blowfish_cbc = b64encode(blowfishcbc).decode('utf-8')\n",
    "ciphertxt_blowfish_cbc\n",
    "\n",
    "#To save it \n",
    "with open(\"ciphertxt_blowfish_cbc.txt\", 'w') as f:\n",
    "    f.write(ciphertxt_blowfish_cbc)\n",
    "f.close()"
   ]
  },
  {
   "cell_type": "code",
   "execution_count": 122,
   "id": "34590b84",
   "metadata": {},
   "outputs": [],
   "source": [
    "blowfish_cfb = Blowfish.new(key_16_bytes, DES.MODE_CFB)\n",
    "blowfishcfb = blowfish_cfb.encrypt(pad(text,16))\n",
    "ciphertxt_blowfish_cfb = b64encode(blowfishcfb).decode('utf-8')\n",
    "ciphertxt_blowfish_cfb\n",
    "\n",
    "#To save it \n",
    "with open(\"ciphertxt_blowfish_cfb.txt\", 'w') as f:\n",
    "    f.write(ciphertxt_blowfish_cfb)\n",
    "f.close()"
   ]
  },
  {
   "cell_type": "code",
   "execution_count": 123,
   "id": "ff3aaafa",
   "metadata": {},
   "outputs": [],
   "source": [
    "blowfish_ofb = Blowfish.new(key_16_bytes, DES.MODE_OFB)\n",
    "blowfishofb = blowfish_ofb.encrypt(pad(text,16))\n",
    "ciphertxt_blowfish_ofb = b64encode(blowfishofb).decode('utf-8')\n",
    "ciphertxt_blowfish_ofb\n",
    "\n",
    "#To save it \n",
    "with open(\"ciphertxt_blowfish_ofb.txt\", 'w') as f:\n",
    "    f.write(ciphertxt_blowfish_ofb)\n",
    "f.close()"
   ]
  },
  {
   "cell_type": "code",
   "execution_count": 124,
   "id": "f4af3c09",
   "metadata": {},
   "outputs": [],
   "source": [
    "blowfish_openpgp = Blowfish.new(key_16_bytes, DES.MODE_OPENPGP)\n",
    "blowfishopenpgp = blowfish_openpgp.encrypt(pad(text,16))\n",
    "ciphertxt_blowfish_openpgp = b64encode(blowfishopenpgp).decode('utf-8')\n",
    "ciphertxt_blowfish_openpgp\n",
    "\n",
    "#To save it \n",
    "with open(\"ciphertxt_blowfish_openpgp.txt\", 'w') as f:\n",
    "    f.write(ciphertxt_blowfish_openpgp)\n",
    "f.close()"
   ]
  },
  {
   "cell_type": "markdown",
   "id": "594d8a0c",
   "metadata": {},
   "source": [
    "CAST-128 with differents modes:"
   ]
  },
  {
   "cell_type": "code",
   "execution_count": 125,
   "id": "e4c1bb01",
   "metadata": {},
   "outputs": [],
   "source": [
    "cast_eax = CAST.new(key_16_bytes, DES.MODE_EAX)\n",
    "casteax = cast_eax.encrypt(pad(text,16))\n",
    "ciphertxt_cast_eax = b64encode(casteax).decode('utf-8')\n",
    "ciphertxt_cast_eax\n",
    "\n",
    "#To save it \n",
    "with open(\"ciphertxt_cast_eax.txt\", 'w') as f:\n",
    "    f.write(ciphertxt_cast_eax)\n",
    "f.close()"
   ]
  },
  {
   "cell_type": "code",
   "execution_count": 126,
   "id": "768ee6dc",
   "metadata": {},
   "outputs": [],
   "source": [
    "cast_ecb = CAST.new(key_16_bytes, DES.MODE_ECB)\n",
    "castecb = cast_ecb.encrypt(pad(text,16))\n",
    "ciphertxt_cast_ecb = b64encode(castecb).decode('utf-8')\n",
    "ciphertxt_cast_ecb\n",
    "\n",
    "#To save it \n",
    "with open(\"ciphertxt_cast_ecb.txt\", 'w') as f:\n",
    "    f.write(ciphertxt_cast_ecb)\n",
    "f.close()"
   ]
  },
  {
   "cell_type": "code",
   "execution_count": 127,
   "id": "9abe9b81",
   "metadata": {},
   "outputs": [],
   "source": [
    "cast_cbc = CAST.new(key_16_bytes, DES.MODE_CBC)\n",
    "castcbc = cast_cbc.encrypt(pad(text,16))\n",
    "ciphertxt_cast_cbc = b64encode(castcbc).decode('utf-8')\n",
    "ciphertxt_cast_cbc\n",
    "\n",
    "#To save it \n",
    "with open(\"ciphertxt_cast_cbc.txt\", 'w') as f:\n",
    "    f.write(ciphertxt_cast_cbc)\n",
    "f.close()"
   ]
  },
  {
   "cell_type": "code",
   "execution_count": 128,
   "id": "66f4678a",
   "metadata": {},
   "outputs": [],
   "source": [
    "cast_cfb = CAST.new(key_16_bytes, DES.MODE_CFB)\n",
    "castcfb = cast_cfb.encrypt(pad(text,16))\n",
    "ciphertxt_cast_cfb = b64encode(castcfb).decode('utf-8')\n",
    "ciphertxt_cast_cfb\n",
    "\n",
    "#To save it \n",
    "with open(\"ciphertxt_cast_cfb.txt\", 'w') as f:\n",
    "    f.write(ciphertxt_cast_cfb)\n",
    "f.close()"
   ]
  },
  {
   "cell_type": "code",
   "execution_count": 129,
   "id": "6738573d",
   "metadata": {},
   "outputs": [],
   "source": [
    "cast_ofb = CAST.new(key_16_bytes, DES.MODE_OFB)\n",
    "castofb = cast_ofb.encrypt(pad(text,16))\n",
    "ciphertxt_cast_ofb = b64encode(castofb).decode('utf-8')\n",
    "ciphertxt_cast_ofb\n",
    "\n",
    "#To save it \n",
    "with open(\"ciphertxt_cast_ofb.txt\", 'w') as f:\n",
    "    f.write(ciphertxt_cast_ofb)\n",
    "f.close()"
   ]
  },
  {
   "cell_type": "code",
   "execution_count": 130,
   "id": "ec24f290",
   "metadata": {},
   "outputs": [],
   "source": [
    "cast_openpgp = CAST.new(key_16_bytes, DES.MODE_OPENPGP)\n",
    "castopenpgp = cast_openpgp.encrypt(pad(text,16))\n",
    "ciphertxt_cast_openpgp = b64encode(castopenpgp).decode('utf-8')\n",
    "ciphertxt_cast_openpgp\n",
    "\n",
    "#To save it \n",
    "with open(\"ciphertxt_cast_openpgp.txt\", 'w') as f:\n",
    "    f.write(ciphertxt_cast_openpgp)\n",
    "f.close()"
   ]
  },
  {
   "cell_type": "markdown",
   "id": "c9565918",
   "metadata": {},
   "source": [
    "Camellia (with differents modes):"
   ]
  },
  {
   "cell_type": "code",
   "execution_count": 131,
   "id": "ee5e5c6b",
   "metadata": {},
   "outputs": [],
   "source": [
    "# Vecteur d'initialisation (IV) aléatoire\n",
    "iv = get_random_bytes(16)\n",
    "\n",
    "cipher_cam_cfb = Cipher(algorithms.Camellia(key_32_bytes), mode=modes.CFB(iv))\n",
    "encryptor_cam_cfb=cipher_cam_cfb.encryptor()\n",
    "camellia_cfb=encryptor_cam_cfb.update(text) \n",
    "ciphertxt_camellia_cfb = b64encode(camellia_cfb).decode('utf-8')\n",
    "\n",
    "#To save it \n",
    "with open(\"ciphertxt_camellia_cfb.txt\", 'w') as f:\n",
    "    f.write(ciphertxt_camellia_cfb)\n",
    "f.close()"
   ]
  },
  {
   "cell_type": "code",
   "execution_count": 132,
   "id": "cac3a8e2",
   "metadata": {},
   "outputs": [],
   "source": [
    "cipher_cam_cbc = Cipher(algorithms.Camellia(key_32_bytes), mode=modes.CBC(iv))\n",
    "encryptor_cam_cbc=cipher_cam_cbc.encryptor()\n",
    "camellia_cbc=encryptor_cam_cbc.update(text) \n",
    "ciphertxt_camellia_cbc = b64encode(camellia_cbc).decode('utf-8')\n",
    "\n",
    "#To save it \n",
    "with open(\"ciphertxt_camellia_cbc.txt\", 'w') as f:\n",
    "    f.write(ciphertxt_camellia_cbc)\n",
    "f.close()"
   ]
  },
  {
   "cell_type": "code",
   "execution_count": 133,
   "id": "b1059c20",
   "metadata": {},
   "outputs": [],
   "source": [
    "cipher_cam_ofb = Cipher(algorithms.Camellia(key_32_bytes), mode=modes.OFB(iv))\n",
    "encryptor_cam_ofb=cipher_cam_ofb.encryptor()\n",
    "camellia_ofb=encryptor_cam_ofb.update(text) \n",
    "ciphertxt_camellia_ofb = b64encode(camellia_ofb).decode('utf-8')\n",
    "\n",
    "#To save it \n",
    "with open(\"ciphertxt_camellia_ofb.txt\", 'w') as f:\n",
    "    f.write(ciphertxt_camellia_ofb)\n",
    "f.close()"
   ]
  },
  {
   "cell_type": "markdown",
   "id": "9fa279d0",
   "metadata": {},
   "source": [
    "SEED"
   ]
  },
  {
   "cell_type": "code",
   "execution_count": 134,
   "id": "59d06af6",
   "metadata": {},
   "outputs": [
    {
     "name": "stderr",
     "output_type": "stream",
     "text": [
      "/var/folders/44/m2grdsw162ld66b4rw5qzxdr0000gn/T/ipykernel_1144/3566006721.py:1: CryptographyDeprecationWarning: SEED has been deprecated\n",
      "  cipher_seed_cfb = Cipher(algorithms.SEED(key_16_bytes), mode=modes.CFB(iv))\n"
     ]
    }
   ],
   "source": [
    "cipher_seed_cfb = Cipher(algorithms.SEED(key_16_bytes), mode=modes.CFB(iv))\n",
    "encryptor_seed_cfb=cipher_seed_cfb.encryptor()\n",
    "seed_cfb=encryptor_seed_cfb.update(text) \n",
    "ciphertxt_seed_cfb = b64encode(seed_cfb).decode('utf-8')\n",
    "\n",
    "#To save it \n",
    "with open(\"ciphertxt_seed_cfb.txt\", 'w') as f:\n",
    "    f.write(ciphertxt_seed_cfb)\n",
    "f.close()"
   ]
  },
  {
   "cell_type": "code",
   "execution_count": 135,
   "id": "5d430dd3",
   "metadata": {},
   "outputs": [
    {
     "name": "stderr",
     "output_type": "stream",
     "text": [
      "/var/folders/44/m2grdsw162ld66b4rw5qzxdr0000gn/T/ipykernel_1144/2379757576.py:1: CryptographyDeprecationWarning: SEED has been deprecated\n",
      "  cipher_seed_cbc = Cipher(algorithms.SEED(key_16_bytes), mode=modes.CBC(iv))\n"
     ]
    }
   ],
   "source": [
    "cipher_seed_cbc = Cipher(algorithms.SEED(key_16_bytes), mode=modes.CBC(iv))\n",
    "encryptor_seed_cbc=cipher_seed_cbc.encryptor()\n",
    "seed_cbc=encryptor_seed_cbc.update(text) \n",
    "ciphertxt_seed_cbc = b64encode(seed_cbc).decode('utf-8')\n",
    "\n",
    "#To save it \n",
    "with open(\"ciphertxt_seed_cbc.txt\", 'w') as f:\n",
    "    f.write(ciphertxt_seed_cbc)\n",
    "f.close()"
   ]
  },
  {
   "cell_type": "code",
   "execution_count": 136,
   "id": "6d57e207",
   "metadata": {},
   "outputs": [
    {
     "name": "stderr",
     "output_type": "stream",
     "text": [
      "/var/folders/44/m2grdsw162ld66b4rw5qzxdr0000gn/T/ipykernel_1144/630017125.py:1: CryptographyDeprecationWarning: SEED has been deprecated\n",
      "  cipher_seed_ofb = Cipher(algorithms.SEED(key_16_bytes), mode=modes.OFB(iv))\n"
     ]
    }
   ],
   "source": [
    "cipher_seed_ofb = Cipher(algorithms.SEED(key_16_bytes), mode=modes.OFB(iv))\n",
    "encryptor_seed_ofb=cipher_seed_ofb.encryptor()\n",
    "seed_ofb=encryptor_seed_ofb.update(text) \n",
    "ciphertxt_seed_ofb = b64encode(seed_ofb).decode('utf-8')\n",
    "\n",
    "#To save it \n",
    "with open(\"ciphertxt_seed_ofb.txt\", 'w') as f:\n",
    "    f.write(ciphertxt_seed_ofb)\n",
    "f.close()"
   ]
  },
  {
   "cell_type": "markdown",
   "id": "d75493be",
   "metadata": {},
   "source": [
    "SM4 (with differents modes):"
   ]
  },
  {
   "cell_type": "code",
   "execution_count": 137,
   "id": "884899d3",
   "metadata": {},
   "outputs": [],
   "source": [
    "cipher_sm4_cfb = Cipher(algorithms.SM4(key_16_bytes), mode=modes.CFB(iv))\n",
    "encryptor_sm4_cfb=cipher_sm4_cfb.encryptor()\n",
    "sm4_cfb=encryptor_sm4_cfb.update(text) \n",
    "ciphertxt_sm4_cfb = b64encode(sm4_cfb).decode('utf-8')\n",
    "\n",
    "#To save it \n",
    "with open(\"ciphertxt_sm4_cfb.txt\", 'w') as f:\n",
    "    f.write(ciphertxt_sm4_cfb)\n",
    "f.close()"
   ]
  },
  {
   "cell_type": "code",
   "execution_count": 138,
   "id": "04847ce9",
   "metadata": {},
   "outputs": [],
   "source": [
    "cipher_sm4_ofb = Cipher(algorithms.SM4(key_16_bytes), mode=modes.OFB(iv))\n",
    "encryptor_sm4_ofb=cipher_sm4_ofb.encryptor()\n",
    "sm4_ofb=encryptor_sm4_ofb.update(text) \n",
    "ciphertxt_sm4_ofb = b64encode(sm4_ofb).decode('utf-8')\n",
    "\n",
    "#To save it \n",
    "with open(\"ciphertxt_sm4_ofb.txt\", 'w') as f:\n",
    "    f.write(ciphertxt_sm4_ofb)\n",
    "f.close()"
   ]
  },
  {
   "cell_type": "code",
   "execution_count": 139,
   "id": "ac8d5c5e",
   "metadata": {},
   "outputs": [],
   "source": [
    "cipher_sm4_cbc = Cipher(algorithms.SM4(key_16_bytes), mode=modes.CBC(iv))\n",
    "encryptor_sm4_cbc=cipher_sm4_cbc.encryptor()\n",
    "sm4_cbc=encryptor_sm4_cbc.update(text) \n",
    "ciphertxt_sm4_cbc = b64encode(sm4_cbc).decode('utf-8')\n",
    "\n",
    "#To save it \n",
    "with open(\"ciphertxt_sm4_cbc.txt\", 'w') as f:\n",
    "    f.write(ciphertxt_sm4_cbc)\n",
    "f.close()"
   ]
  },
  {
   "cell_type": "markdown",
   "id": "f0326f20",
   "metadata": {},
   "source": [
    "IDEA (with differents modes):"
   ]
  },
  {
   "cell_type": "code",
   "execution_count": 140,
   "id": "7afe4abc",
   "metadata": {},
   "outputs": [
    {
     "name": "stderr",
     "output_type": "stream",
     "text": [
      "/var/folders/44/m2grdsw162ld66b4rw5qzxdr0000gn/T/ipykernel_1144/362792127.py:2: CryptographyDeprecationWarning: IDEA has been deprecated\n",
      "  cipher_idea_cfb = Cipher(algorithms.IDEA(key_16_bytes), mode=modes.CFB(iv_8))\n"
     ]
    }
   ],
   "source": [
    "iv_8 = get_random_bytes(8)\n",
    "cipher_idea_cfb = Cipher(algorithms.IDEA(key_16_bytes), mode=modes.CFB(iv_8))\n",
    "encryptor_idea_cfb=cipher_idea_cfb.encryptor()\n",
    "idea_cfb=encryptor_idea_cfb.update(text) \n",
    "ciphertxt_idea_cfb = b64encode(idea_cfb).decode('utf-8')\n",
    "\n",
    "#To save it \n",
    "with open(\"ciphertxt_idea_cfb.txt\", 'w') as f:\n",
    "    f.write(ciphertxt_idea_cfb)\n",
    "f.close()"
   ]
  },
  {
   "cell_type": "code",
   "execution_count": 141,
   "id": "00fcc22d",
   "metadata": {},
   "outputs": [
    {
     "name": "stderr",
     "output_type": "stream",
     "text": [
      "/var/folders/44/m2grdsw162ld66b4rw5qzxdr0000gn/T/ipykernel_1144/1798241915.py:1: CryptographyDeprecationWarning: IDEA has been deprecated\n",
      "  cipher_idea_ofb = Cipher(algorithms.IDEA(key_16_bytes), mode=modes.OFB(iv_8))\n"
     ]
    }
   ],
   "source": [
    "cipher_idea_ofb = Cipher(algorithms.IDEA(key_16_bytes), mode=modes.OFB(iv_8))\n",
    "encryptor_idea_ofb=cipher_idea_ofb.encryptor()\n",
    "idea_ofb=encryptor_idea_ofb.update(text) \n",
    "ciphertxt_idea_ofb = b64encode(idea_ofb).decode('utf-8')\n",
    "\n",
    "#To save it \n",
    "with open(\"ciphertxt_idea_ofb.txt\", 'w') as f:\n",
    "    f.write(ciphertxt_idea_ofb)\n",
    "f.close()"
   ]
  },
  {
   "cell_type": "code",
   "execution_count": 142,
   "id": "46eafa96",
   "metadata": {},
   "outputs": [
    {
     "name": "stderr",
     "output_type": "stream",
     "text": [
      "/var/folders/44/m2grdsw162ld66b4rw5qzxdr0000gn/T/ipykernel_1144/3843272000.py:1: CryptographyDeprecationWarning: IDEA has been deprecated\n",
      "  cipher_idea_cbc = Cipher(algorithms.IDEA(key_16_bytes), mode=modes.CBC(iv_8))\n"
     ]
    }
   ],
   "source": [
    "cipher_idea_cbc = Cipher(algorithms.IDEA(key_16_bytes), mode=modes.CBC(iv_8))\n",
    "encryptor_idea_cbc=cipher_idea_cbc.encryptor()\n",
    "idea_cbc=encryptor_idea_cbc.update(text) \n",
    "ciphertxt_idea_cbc = b64encode(idea_cbc).decode('utf-8')\n",
    "\n",
    "#To save it \n",
    "with open(\"ciphertxt_idea_cbc.txt\", 'w') as f:\n",
    "    f.write(ciphertxt_idea_cbc)\n",
    "f.close()"
   ]
  }
 ],
 "metadata": {
  "kernelspec": {
   "display_name": "Python 3 (ipykernel)",
   "language": "python",
   "name": "python3"
  },
  "language_info": {
   "codemirror_mode": {
    "name": "ipython",
    "version": 3
   },
   "file_extension": ".py",
   "mimetype": "text/x-python",
   "name": "python",
   "nbconvert_exporter": "python",
   "pygments_lexer": "ipython3",
   "version": "3.9.13"
  }
 },
 "nbformat": 4,
 "nbformat_minor": 5
}
